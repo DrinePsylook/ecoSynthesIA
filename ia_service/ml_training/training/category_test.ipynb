{
 "cells": [
  {
   "cell_type": "code",
   "execution_count": 1,
   "id": "2b91b315",
   "metadata": {},
   "outputs": [],
   "source": [
    "import pandas as pd\n",
    "import pickle\n",
    "from sklearn.metrics import classification_report, accuracy_score"
   ]
  },
  {
   "cell_type": "code",
   "execution_count": 20,
   "id": "fcec78ec",
   "metadata": {},
   "outputs": [],
   "source": [
    "model_filename = \"classification_model.pkl\"\n",
    "vectorizer_filename = \"tfidf_vectorizer.pkl\"\n",
    "encoder_filename = \"label_encoder.pkl\"\n",
    "file_path_test = \"../news_datasets/test_20_labeled.csv\""
   ]
  },
  {
   "cell_type": "code",
   "execution_count": 21,
   "id": "66a6865f",
   "metadata": {},
   "outputs": [
    {
     "name": "stdout",
     "output_type": "stream",
     "text": [
      "Test dataset uploaded: 20 records\n",
      "Training categories: ['BIODIVERSITY AND ECOSYSTEMS', 'CLIMATE AND EMISSIONS', 'ENERGY AND TRANSITION', 'NATURAL RESOURCES', 'POLICIES AND REGULATION', 'POLLUTION AND ENVIRONMENTAL QUALITY', 'RISKS AND DISASTERS', 'SOCIO-ECONOMIC IMPACT']\n"
     ]
    }
   ],
   "source": [
    "with open(model_filename, 'rb') as file:\n",
    "    classifier = pickle.load(file)\n",
    "\n",
    "with open(vectorizer_filename, 'rb') as file:\n",
    "    tfidf_vectorizer = pickle.load(file)\n",
    "\n",
    "with open(encoder_filename, 'rb') as file:\n",
    "    label_encoder = pickle.load(file)\n",
    "    \n",
    "df_test = pd.read_csv(file_path_test)\n",
    "\n",
    "TEXT_COLUMN = 'Full Text'\n",
    "TARGET_COLUMN = 'llm_category'\n",
    "\n",
    "print(f\"Test dataset uploaded: {len(df_test)} records\")\n",
    "print(f\"Training categories: {list(label_encoder.classes_)}\")"
   ]
  },
  {
   "cell_type": "code",
   "execution_count": 22,
   "id": "4ca863a9",
   "metadata": {},
   "outputs": [
    {
     "name": "stdout",
     "output_type": "stream",
     "text": [
      "dimensions of vectorized test data: (20, 1183)\n"
     ]
    }
   ],
   "source": [
    "# Encoding target column\n",
    "df_test['target_encoded'] = label_encoder.transform(df_test[TARGET_COLUMN])\n",
    "\n",
    "X_test = df_test[TEXT_COLUMN]\n",
    "y_test = df_test['target_encoded']\n",
    "\n",
    "# Vectorization of test data\n",
    "X_test_tfidf = tfidf_vectorizer.transform(X_test)\n",
    "\n",
    "print(f\"dimensions of vectorized test data: {X_test_tfidf.shape}\")"
   ]
  },
  {
   "cell_type": "code",
   "execution_count": 23,
   "id": "6b0f80e6",
   "metadata": {},
   "outputs": [
    {
     "name": "stdout",
     "output_type": "stream",
     "text": [
      "\n",
      "--- preview for predictions ---\n",
      "                          llm_category           predicted_category\n",
      "0          BIODIVERSITY AND ECOSYSTEMS  BIODIVERSITY AND ECOSYSTEMS\n",
      "1                ENERGY AND TRANSITION        CLIMATE AND EMISSIONS\n",
      "2                CLIMATE AND EMISSIONS        CLIMATE AND EMISSIONS\n",
      "3                SOCIO-ECONOMIC IMPACT        CLIMATE AND EMISSIONS\n",
      "4              POLICIES AND REGULATION  BIODIVERSITY AND ECOSYSTEMS\n",
      "5                ENERGY AND TRANSITION  BIODIVERSITY AND ECOSYSTEMS\n",
      "6  POLLUTION AND ENVIRONMENTAL QUALITY  BIODIVERSITY AND ECOSYSTEMS\n",
      "7                CLIMATE AND EMISSIONS  BIODIVERSITY AND ECOSYSTEMS\n",
      "8              POLICIES AND REGULATION  BIODIVERSITY AND ECOSYSTEMS\n",
      "9                    NATURAL RESOURCES  BIODIVERSITY AND ECOSYSTEMS\n"
     ]
    }
   ],
   "source": [
    "# Prediction on test data\n",
    "y_pred = classifier.predict(X_test_tfidf)\n",
    "\n",
    "# Decoding predictions (converting numerical indices into category names)\n",
    "y_pred_categories = label_encoder.inverse_transform(y_pred)\n",
    "\n",
    "df_test['predicted_category'] = y_pred_categories\n",
    "\n",
    "print(\"\\n--- preview for predictions ---\")\n",
    "print(df_test[[TARGET_COLUMN, 'predicted_category']].head(10))"
   ]
  },
  {
   "cell_type": "code",
   "execution_count": 24,
   "id": "d2ae33cf",
   "metadata": {},
   "outputs": [
    {
     "name": "stdout",
     "output_type": "stream",
     "text": [
      "\n",
      "=============================================\n",
      "| ACCURACY : 0.2500             |\n",
      "=============================================\n",
      "\n",
      "CLASSIFICATION REPORT BY CATEGORY :\n",
      "\n",
      "                                     precision    recall  f1-score   support\n",
      "\n",
      "        BIODIVERSITY AND ECOSYSTEMS       0.33      0.80      0.47         5\n",
      "              CLIMATE AND EMISSIONS       0.14      0.50      0.22         2\n",
      "              ENERGY AND TRANSITION       0.00      0.00      0.00         2\n",
      "                  NATURAL RESOURCES       0.00      0.00      0.00         1\n",
      "            POLICIES AND REGULATION       0.00      0.00      0.00         6\n",
      "POLLUTION AND ENVIRONMENTAL QUALITY       0.00      0.00      0.00         2\n",
      "                RISKS AND DISASTERS       0.00      0.00      0.00         1\n",
      "              SOCIO-ECONOMIC IMPACT       0.00      0.00      0.00         1\n",
      "\n",
      "                           accuracy                           0.25        20\n",
      "                          macro avg       0.06      0.16      0.09        20\n",
      "                       weighted avg       0.10      0.25      0.14        20\n",
      "\n"
     ]
    }
   ],
   "source": [
    "accuracy = accuracy_score(y_test, y_pred)\n",
    "\n",
    "report = classification_report(y_test, y_pred, target_names=label_encoder.classes_, zero_division=0)\n",
    "\n",
    "print(\"\\n=============================================\")\n",
    "print(f\"| ACCURACY : {accuracy:.4f}             |\")\n",
    "print(\"=============================================\")\n",
    "print(\"\\nCLASSIFICATION REPORT BY CATEGORY :\\n\")\n",
    "print(report)"
   ]
  },
  {
   "cell_type": "code",
   "execution_count": null,
   "id": "e2a01d3e",
   "metadata": {},
   "outputs": [],
   "source": []
  }
 ],
 "metadata": {
  "kernelspec": {
   "display_name": "venv",
   "language": "python",
   "name": "python3"
  },
  "language_info": {
   "codemirror_mode": {
    "name": "ipython",
    "version": 3
   },
   "file_extension": ".py",
   "mimetype": "text/x-python",
   "name": "python",
   "nbconvert_exporter": "python",
   "pygments_lexer": "ipython3",
   "version": "3.12.3"
  }
 },
 "nbformat": 4,
 "nbformat_minor": 5
}
