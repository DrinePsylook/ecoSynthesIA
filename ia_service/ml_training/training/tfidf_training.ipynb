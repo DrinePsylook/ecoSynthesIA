{
 "cells": [
  {
   "cell_type": "code",
   "execution_count": 14,
   "id": "a1ffbcf8",
   "metadata": {},
   "outputs": [],
   "source": [
    "import pandas as pd\n",
    "import pickle\n",
    "\n",
    "from sklearn.pipeline import Pipeline\n",
    "from sklearn.model_selection import train_test_split\n",
    "from sklearn.preprocessing import LabelEncoder\n",
    "from sklearn.linear_model import LogisticRegression\n",
    "from sklearn.metrics import classification_report, accuracy_score\n",
    "from sklearn.feature_extraction.text import TfidfVectorizer"
   ]
  },
  {
   "cell_type": "code",
   "execution_count": 16,
   "id": "dbc38d4b",
   "metadata": {},
   "outputs": [],
   "source": [
    "file = \"../news_datasets/full_training_dataset.csv\"\n",
    "model_filename_pkl = 'classification_report/tfidf_classification_model.pkl'\n",
    "vectorizer_filename_pkl = 'classification_report/tfidf_vectorizer.pkl'\n",
    "encoder_filename_pkl = 'classification_report/tfidf_label_encoder.pkl'"
   ]
  },
  {
   "cell_type": "code",
   "execution_count": 3,
   "id": "adb902bd",
   "metadata": {},
   "outputs": [
    {
     "data": {
      "text/html": [
       "<div>\n",
       "<style scoped>\n",
       "    .dataframe tbody tr th:only-of-type {\n",
       "        vertical-align: middle;\n",
       "    }\n",
       "\n",
       "    .dataframe tbody tr th {\n",
       "        vertical-align: top;\n",
       "    }\n",
       "\n",
       "    .dataframe thead th {\n",
       "        text-align: right;\n",
       "    }\n",
       "</style>\n",
       "<table border=\"1\" class=\"dataframe\">\n",
       "  <thead>\n",
       "    <tr style=\"text-align: right;\">\n",
       "      <th></th>\n",
       "      <th>Title</th>\n",
       "      <th>Authors</th>\n",
       "      <th>Date Published</th>\n",
       "      <th>Full Text</th>\n",
       "      <th>llm_category</th>\n",
       "    </tr>\n",
       "  </thead>\n",
       "  <tbody>\n",
       "    <tr>\n",
       "      <th>0</th>\n",
       "      <td>Britain’s first climate assembly agrees plan ...</td>\n",
       "      <td>['Molly Blackall']</td>\n",
       "      <td>2021-02-02</td>\n",
       "      <td>Camden citizens’ proposals focus on housing, t...</td>\n",
       "      <td>CLIMATE AND EMISSIONS</td>\n",
       "    </tr>\n",
       "    <tr>\n",
       "      <th>1</th>\n",
       "      <td>We are not all doomed. Not yet</td>\n",
       "      <td>['Ammar Kalia']</td>\n",
       "      <td>2020-11-07</td>\n",
       "      <td>This week’s Upside digest looks at the ways to...</td>\n",
       "      <td>CLIMATE AND EMISSIONS</td>\n",
       "    </tr>\n",
       "    <tr>\n",
       "      <th>2</th>\n",
       "      <td>This article is more than 9 months oldCoral-e...</td>\n",
       "      <td>['Aneesa Ahmed']</td>\n",
       "      <td>2023-04-25</td>\n",
       "      <td>Corallivorous fish were regarded as harmful to...</td>\n",
       "      <td>BIODIVERSITY AND ECOSYSTEMS</td>\n",
       "    </tr>\n",
       "    <tr>\n",
       "      <th>3</th>\n",
       "      <td>Alarming link between fungicides and bee decli...</td>\n",
       "      <td>['Damian Carrington', ' Environment editor', '...</td>\n",
       "      <td>2020-11-26</td>\n",
       "      <td>Fungicides are found to be the strongest facto...</td>\n",
       "      <td>POLLUTION AND ENVIRONMENTAL QUALITY</td>\n",
       "    </tr>\n",
       "    <tr>\n",
       "      <th>4</th>\n",
       "      <td>Climate impact labels could help people eat l...</td>\n",
       "      <td>['Helena Horton', ' Environment reporter']</td>\n",
       "      <td>2023-01-05</td>\n",
       "      <td>Information on environmental impact can persua...</td>\n",
       "      <td>CLIMATE AND EMISSIONS</td>\n",
       "    </tr>\n",
       "  </tbody>\n",
       "</table>\n",
       "</div>"
      ],
      "text/plain": [
       "                                               Title  \\\n",
       "0   Britain’s first climate assembly agrees plan ...   \n",
       "1                     We are not all doomed. Not yet   \n",
       "2   This article is more than 9 months oldCoral-e...   \n",
       "3  Alarming link between fungicides and bee decli...   \n",
       "4   Climate impact labels could help people eat l...   \n",
       "\n",
       "                                             Authors Date Published  \\\n",
       "0                                 ['Molly Blackall']     2021-02-02   \n",
       "1                                    ['Ammar Kalia']     2020-11-07   \n",
       "2                                   ['Aneesa Ahmed']     2023-04-25   \n",
       "3  ['Damian Carrington', ' Environment editor', '...     2020-11-26   \n",
       "4         ['Helena Horton', ' Environment reporter']     2023-01-05   \n",
       "\n",
       "                                           Full Text  \\\n",
       "0  Camden citizens’ proposals focus on housing, t...   \n",
       "1  This week’s Upside digest looks at the ways to...   \n",
       "2  Corallivorous fish were regarded as harmful to...   \n",
       "3  Fungicides are found to be the strongest facto...   \n",
       "4  Information on environmental impact can persua...   \n",
       "\n",
       "                          llm_category  \n",
       "0                CLIMATE AND EMISSIONS  \n",
       "1                CLIMATE AND EMISSIONS  \n",
       "2          BIODIVERSITY AND ECOSYSTEMS  \n",
       "3  POLLUTION AND ENVIRONMENTAL QUALITY  \n",
       "4                CLIMATE AND EMISSIONS  "
      ]
     },
     "execution_count": 3,
     "metadata": {},
     "output_type": "execute_result"
    }
   ],
   "source": [
    "df = pd.read_csv(file)\n",
    "df.head()"
   ]
  },
  {
   "cell_type": "code",
   "execution_count": 4,
   "id": "ab2dd464",
   "metadata": {},
   "outputs": [
    {
     "data": {
      "text/plain": [
       "(398, 5)"
      ]
     },
     "execution_count": 4,
     "metadata": {},
     "output_type": "execute_result"
    }
   ],
   "source": [
    "df.shape"
   ]
  },
  {
   "cell_type": "code",
   "execution_count": 5,
   "id": "aa9c6d98",
   "metadata": {},
   "outputs": [
    {
     "name": "stdout",
     "output_type": "stream",
     "text": [
      "Training set size (X_train): 318\n",
      "Testing set size (X_test): 80\n"
     ]
    }
   ],
   "source": [
    "# Train test split\n",
    "X = df['Full Text']\n",
    "y = df['llm_category']\n",
    "\n",
    "# Stratified split to maintain class distribution\n",
    "X_train, X_test, y_train, y_test = train_test_split(X, y, test_size=0.2, random_state=42, stratify=y)\n",
    "\n",
    "print(f\"Training set size (X_train): {len(X_train)}\")\n",
    "print(f\"Testing set size (X_test): {len(X_test)}\")"
   ]
  },
  {
   "cell_type": "code",
   "execution_count": 7,
   "id": "59de9928",
   "metadata": {},
   "outputs": [
    {
     "name": "stdout",
     "output_type": "stream",
     "text": [
      "\n",
      "Correspondence Category -> Encoded:\n",
      "BIODIVERSITY AND ECOSYSTEMS -> 0\n",
      "CLIMATE AND EMISSIONS -> 1\n",
      "ENERGY AND TRANSITION -> 2\n",
      "NATURAL RESOURCES -> 3\n",
      "POLICIES AND REGULATION -> 4\n",
      "POLLUTION AND ENVIRONMENTAL QUALITY -> 5\n",
      "RISKS AND DISASTERS -> 6\n",
      "SOCIO-ECONOMIC IMPACT -> 7\n"
     ]
    }
   ],
   "source": [
    "# Label encoding\n",
    "label_encoder = LabelEncoder()\n",
    "\n",
    "# Train the transformer and apply it to the training and test labels\n",
    "y_train_encoded = label_encoder.fit_transform(y_train)\n",
    "y_test_encoded = label_encoder.transform(y_test)\n",
    "\n",
    "# Display correspondence for reference\n",
    "print(\"\\nCorrespondence Category -> Encoded:\")\n",
    "for i, category in enumerate(label_encoder.classes_):\n",
    "    print(f\"{category} -> {i}\")"
   ]
  },
  {
   "cell_type": "code",
   "execution_count": 9,
   "id": "2c2f03bf",
   "metadata": {},
   "outputs": [],
   "source": [
    "# Initialize TfidfVectorizer\n",
    "tftidf = TfidfVectorizer(max_features=5000, ngram_range=(1, 2))\n",
    "\n",
    "# Train the vectorizer on the training set\n",
    "X_train_tfidf = tftidf.fit_transform(X_train)\n",
    "X_test_tfidf = tftidf.transform(X_test)"
   ]
  },
  {
   "cell_type": "code",
   "execution_count": null,
   "id": "f7f899b2",
   "metadata": {},
   "outputs": [
    {
     "name": "stdout",
     "output_type": "stream",
     "text": [
      "\n",
      "🚀 Accuracy for TF-IDF sur 800 (398) datas: 0.5125\n",
      "\n",
      "Classification Report for TF-IDF:\n",
      "                                      precision    recall  f1-score   support\n",
      "\n",
      "        BIODIVERSITY AND ECOSYSTEMS       0.50      1.00      0.67        24\n",
      "              CLIMATE AND EMISSIONS       0.50      0.74      0.60        19\n",
      "              ENERGY AND TRANSITION       0.00      0.00      0.00         8\n",
      "                  NATURAL RESOURCES       0.00      0.00      0.00         3\n",
      "            POLICIES AND REGULATION       0.00      0.00      0.00         7\n",
      "POLLUTION AND ENVIRONMENTAL QUALITY       1.00      0.33      0.50         9\n",
      "                RISKS AND DISASTERS       0.00      0.00      0.00         5\n",
      "              SOCIO-ECONOMIC IMPACT       0.00      0.00      0.00         5\n",
      "\n",
      "                           accuracy                           0.51        80\n",
      "                          macro avg       0.25      0.26      0.22        80\n",
      "                       weighted avg       0.38      0.51      0.40        80\n",
      "\n"
     ]
    },
    {
     "name": "stderr",
     "output_type": "stream",
     "text": [
      "/var/www/html/ecoSynthesIA/ia_service/venv/lib/python3.12/site-packages/sklearn/metrics/_classification.py:1731: UndefinedMetricWarning: Precision is ill-defined and being set to 0.0 in labels with no predicted samples. Use `zero_division` parameter to control this behavior.\n",
      "  _warn_prf(average, modifier, f\"{metric.capitalize()} is\", result.shape[0])\n",
      "/var/www/html/ecoSynthesIA/ia_service/venv/lib/python3.12/site-packages/sklearn/metrics/_classification.py:1731: UndefinedMetricWarning: Precision is ill-defined and being set to 0.0 in labels with no predicted samples. Use `zero_division` parameter to control this behavior.\n",
      "  _warn_prf(average, modifier, f\"{metric.capitalize()} is\", result.shape[0])\n",
      "/var/www/html/ecoSynthesIA/ia_service/venv/lib/python3.12/site-packages/sklearn/metrics/_classification.py:1731: UndefinedMetricWarning: Precision is ill-defined and being set to 0.0 in labels with no predicted samples. Use `zero_division` parameter to control this behavior.\n",
      "  _warn_prf(average, modifier, f\"{metric.capitalize()} is\", result.shape[0])\n"
     ]
    }
   ],
   "source": [
    "# Initialize and train the Logistic Regression model\n",
    "tftidf_model = LogisticRegression(max_iter=1000, random_state=42)\n",
    "tftidf_model.fit(X_train_tfidf, y_train_encoded)\n",
    "\n",
    "# Make predictions on the test set\n",
    "y_pred_tfidf = tftidf_model.predict(X_test_tfidf)\n",
    "\n",
    "# Evaluate the model\n",
    "accuracy_tfidf = accuracy_score(y_test_encoded, y_pred_tfidf)\n",
    "print(f\"\\n🚀 Accuracy for TF-IDF sur 1000 datas: {accuracy_tfidf:.4f}\")\n",
    "\n",
    "# Detailed classification report\n",
    "report_tfidf = classification_report(y_test_encoded, y_pred_tfidf, target_names=label_encoder.classes_)\n",
    "print(\"\\nClassification Report for TF-IDF:\\n\", report_tfidf)"
   ]
  },
  {
   "cell_type": "code",
   "execution_count": 17,
   "id": "2cbe62db",
   "metadata": {},
   "outputs": [],
   "source": [
    "with open(model_filename_pkl, 'wb') as model_file:\n",
    "    pickle.dump(tftidf_model, model_file)\n",
    "\n",
    "with open(vectorizer_filename_pkl, 'wb') as vectorizer_file:\n",
    "    pickle.dump(tftidf, vectorizer_file)\n",
    "\n",
    "with open(encoder_filename_pkl, 'wb') as encoder_file:\n",
    "    pickle.dump(label_encoder, encoder_file)"
   ]
  },
  {
   "cell_type": "code",
   "execution_count": null,
   "id": "6bfdb320",
   "metadata": {},
   "outputs": [],
   "source": []
  }
 ],
 "metadata": {
  "kernelspec": {
   "display_name": "venv",
   "language": "python",
   "name": "python3"
  },
  "language_info": {
   "codemirror_mode": {
    "name": "ipython",
    "version": 3
   },
   "file_extension": ".py",
   "mimetype": "text/x-python",
   "name": "python",
   "nbconvert_exporter": "python",
   "pygments_lexer": "ipython3",
   "version": "3.12.3"
  }
 },
 "nbformat": 4,
 "nbformat_minor": 5
}
