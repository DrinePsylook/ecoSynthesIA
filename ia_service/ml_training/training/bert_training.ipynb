{
 "cells": [
  {
   "cell_type": "code",
   "execution_count": 22,
   "id": "e0533841",
   "metadata": {},
   "outputs": [],
   "source": [
    "import pandas as pd\n",
    "import numpy as np\n",
    "import os\n",
    "import pickle\n",
    "import seaborn as sns\n",
    "import matplotlib.pyplot as plt\n",
    "\n",
    "import torch\n",
    "import torch.nn as nn\n",
    "import torch.optim as optim\n",
    "\n",
    "from sklearn.model_selection import train_test_split\n",
    "from sklearn.preprocessing import LabelEncoder\n",
    "from sklearn.utils.class_weight import compute_class_weight\n",
    "from sklearn.metrics import classification_report, accuracy_score, confusion_matrix\n",
    "\n",
    "from transformers import DistilBertTokenizerFast, DistilBertForSequenceClassification\n",
    "from torch.utils.data import DataLoader, Dataset\n",
    "from tqdm import tqdm"
   ]
  },
  {
   "cell_type": "code",
   "execution_count": 2,
   "id": "2c9318a7",
   "metadata": {},
   "outputs": [
    {
     "name": "stdout",
     "output_type": "stream",
     "text": [
      "Using device: cuda\n"
     ]
    }
   ],
   "source": [
    "DEVICE = torch.device('cuda') if torch.cuda.is_available() else torch.device('cpu')\n",
    "print(f'Using device: {DEVICE}')"
   ]
  },
  {
   "cell_type": "code",
   "execution_count": 3,
   "id": "5a2e9da3",
   "metadata": {},
   "outputs": [],
   "source": [
    "file = \"../news_datasets/full_training_dataset.csv\"\n",
    "BERT_OUTPUT_DIR = 'classification_report/distilbert_classification_model'\n",
    "encoder_filename_pkl = 'classification_report/bert_label_encoder.pkl'"
   ]
  },
  {
   "cell_type": "code",
   "execution_count": 4,
   "id": "c749ce18",
   "metadata": {},
   "outputs": [
    {
     "name": "stdout",
     "output_type": "stream",
     "text": [
      "Dataset loaded with shape: (999, 5)\n"
     ]
    }
   ],
   "source": [
    "df = pd.read_csv(file)\n",
    "print(f\"Dataset loaded with shape: {df.shape}\")"
   ]
  },
  {
   "cell_type": "code",
   "execution_count": 5,
   "id": "31c9821e",
   "metadata": {},
   "outputs": [],
   "source": [
    "# Split the dataset into training and testing sets\n",
    "X = df['Full Text']\n",
    "y = df['llm_category']\n",
    "\n",
    "X_train, X_test, y_train, y_test = train_test_split(X, y, test_size=0.2, random_state=42, stratify=y)\n",
    "\n",
    "# Encode the labels\n",
    "label_encoder = LabelEncoder().fit(y_train)\n",
    "y_train_encoded = label_encoder.transform(y_train)\n",
    "y_test_encoded = label_encoder.transform(y_test)\n",
    "NUM_LABELS = len(label_encoder.classes_)"
   ]
  },
  {
   "cell_type": "code",
   "execution_count": 6,
   "id": "230153ee",
   "metadata": {},
   "outputs": [
    {
     "name": "stdout",
     "output_type": "stream",
     "text": [
      "\n",
      "[INFO] Class weights calculated (inversely proportional to frequency) :\n",
      "tensor([0.4667, 0.5549, 1.1613, 2.3227, 1.1750, 1.1097, 1.7522, 2.2699],\n",
      "       device='cuda:0')\n"
     ]
    }
   ],
   "source": [
    "#  Calculate class weights to handle class imbalance\n",
    "class_weights = compute_class_weight(\n",
    "    class_weight='balanced',\n",
    "    classes=np.unique(y_train_encoded),\n",
    "    y=y_train_encoded\n",
    ")\n",
    "\n",
    "class_weights_tensor = torch.tensor(class_weights, dtype=torch.float).to(DEVICE)\n",
    "print(\"\\n[INFO] Class weights calculated (inversely proportional to frequency) :\")\n",
    "print(class_weights_tensor)"
   ]
  },
  {
   "cell_type": "code",
   "execution_count": 7,
   "id": "a07a5e0c",
   "metadata": {},
   "outputs": [],
   "source": [
    "#  Tokenization\n",
    "tokenizer = DistilBertTokenizerFast.from_pretrained('distilbert-base-uncased')\n",
    "MAX_LENGTH = 512 # Maximum length for DistilBERT\n",
    "\n",
    "def tokenize_data(texts):\n",
    "    return tokenizer(\n",
    "        list(texts),\n",
    "        max_length=MAX_LENGTH,\n",
    "        truncation=True,\n",
    "        padding=True,\n",
    "        return_tensors='pt'\n",
    "    )\n",
    "\n",
    "train_encodings = tokenize_data(X_train)\n",
    "test_encodings = tokenize_data(X_test)\n",
    "y_train_tensor = torch.tensor(y_train_encoded, dtype=torch.long)\n",
    "y_test_tensor = torch.tensor(y_test_encoded, dtype=torch.long)\n",
    "\n",
    "# Create Datasets and Dataloaders class\n",
    "class EnvironmentDataset(Dataset):\n",
    "    def __init__(self, encodings, labels):\n",
    "        self.encodings = encodings\n",
    "        self.labels = labels\n",
    "\n",
    "    def __getitem__(self, idx):\n",
    "        item = {key: val[idx].clone().detach() for key, val in self.encodings.items()}\n",
    "        item['labels'] = self.labels[idx].clone().detach()\n",
    "        return item\n",
    "\n",
    "    def __len__(self):\n",
    "        return len(self.labels)\n",
    "\n",
    "train_dataset = EnvironmentDataset(train_encodings, y_train_tensor)\n",
    "test_dataset = EnvironmentDataset(test_encodings, y_test_tensor)\n",
    "\n",
    "BATCH_SIZE = 8\n",
    "train_dataoader = DataLoader(train_dataset, batch_size=BATCH_SIZE, shuffle=True)\n",
    "test_dataloader = DataLoader(test_dataset, batch_size=BATCH_SIZE)"
   ]
  },
  {
   "cell_type": "code",
   "execution_count": 16,
   "id": "b448d034",
   "metadata": {},
   "outputs": [],
   "source": [
    "# Model class modified to ponderate loss with class weights\n",
    "class WeightedDistilBert(nn.Module):\n",
    "    def __init__(self, num_labels, class_weights):\n",
    "        super(WeightedDistilBert, self).__init__()\n",
    "        self.distilbert = DistilBertForSequenceClassification.from_pretrained(\n",
    "            'distilbert-base-uncased',\n",
    "            num_labels=num_labels\n",
    "        )\n",
    "        self.loss_fn = nn.CrossEntropyLoss(weight=class_weights)\n",
    "\n",
    "    def forward(self, input_ids, attention_mask, labels=None):\n",
    "        outputs = self.distilbert(\n",
    "            input_ids=input_ids,\n",
    "            attention_mask=attention_mask,\n",
    "        )\n",
    "        logits = outputs.logits\n",
    "\n",
    "        loss=None\n",
    "        if labels is not None:\n",
    "            loss = self.loss_fn(logits.view(-1, self.distilbert.num_labels), labels.view(-1))   \n",
    "\n",
    "        return loss, logits"
   ]
  },
  {
   "cell_type": "code",
   "execution_count": 17,
   "id": "57c78436",
   "metadata": {},
   "outputs": [
    {
     "name": "stdout",
     "output_type": "stream",
     "text": [
      "\n",
      "=== CLASS WEIGHTS ===\n",
      "Class: BIODIVERSITY AND ECOSYSTEMS, Weight: 0.46670560747663553\n",
      "Class: CLIMATE AND EMISSIONS, Weight: 0.5548611111111111\n",
      "Class: ENERGY AND TRANSITION, Weight: 1.1613372093023255\n",
      "Class: NATURAL RESOURCES, Weight: 2.322674418604651\n",
      "Class: POLICIES AND REGULATION, Weight: 1.175\n",
      "Class: POLLUTION AND ENVIRONMENTAL QUALITY, Weight: 1.1097222222222223\n",
      "Class: RISKS AND DISASTERS, Weight: 1.7521929824561404\n",
      "Class: SOCIO-ECONOMIC IMPACT, Weight: 2.2698863636363638\n"
     ]
    }
   ],
   "source": [
    "print(\"\\n=== CLASS WEIGHTS ===\")\n",
    "for i, weight in enumerate(class_weights):\n",
    "    class_name = label_encoder.inverse_transform([i])[0]\n",
    "    print(f\"Class: {class_name}, Weight: {weight}\")"
   ]
  },
  {
   "cell_type": "code",
   "execution_count": 19,
   "id": "b904f8da",
   "metadata": {},
   "outputs": [
    {
     "name": "stderr",
     "output_type": "stream",
     "text": [
      "Some weights of DistilBertForSequenceClassification were not initialized from the model checkpoint at distilbert-base-uncased and are newly initialized: ['classifier.bias', 'classifier.weight', 'pre_classifier.bias', 'pre_classifier.weight']\n",
      "You should probably TRAIN this model on a down-stream task to be able to use it for predictions and inference.\n"
     ]
    },
    {
     "name": "stdout",
     "output_type": "stream",
     "text": [
      "\n",
      "--- Epoch 1 / 20 ---\n"
     ]
    },
    {
     "name": "stderr",
     "output_type": "stream",
     "text": [
      "Training: 100%|██████████| 100/100 [00:24<00:00,  4.09it/s]\n"
     ]
    },
    {
     "name": "stdout",
     "output_type": "stream",
     "text": [
      "\n",
      "--- Epoch 2 / 20 ---\n"
     ]
    },
    {
     "name": "stderr",
     "output_type": "stream",
     "text": [
      "Training: 100%|██████████| 100/100 [00:25<00:00,  3.99it/s]\n"
     ]
    },
    {
     "name": "stdout",
     "output_type": "stream",
     "text": [
      "\n",
      "--- Epoch 3 / 20 ---\n"
     ]
    },
    {
     "name": "stderr",
     "output_type": "stream",
     "text": [
      "Training: 100%|██████████| 100/100 [00:25<00:00,  3.95it/s]\n"
     ]
    },
    {
     "name": "stdout",
     "output_type": "stream",
     "text": [
      "\n",
      "--- Epoch 4 / 20 ---\n"
     ]
    },
    {
     "name": "stderr",
     "output_type": "stream",
     "text": [
      "Training: 100%|██████████| 100/100 [00:26<00:00,  3.72it/s]\n"
     ]
    },
    {
     "name": "stdout",
     "output_type": "stream",
     "text": [
      "\n",
      "--- Epoch 5 / 20 ---\n"
     ]
    },
    {
     "name": "stderr",
     "output_type": "stream",
     "text": [
      "Training: 100%|██████████| 100/100 [00:25<00:00,  3.90it/s]\n"
     ]
    },
    {
     "name": "stdout",
     "output_type": "stream",
     "text": [
      "\n",
      "--- Epoch 6 / 20 ---\n"
     ]
    },
    {
     "name": "stderr",
     "output_type": "stream",
     "text": [
      "Training: 100%|██████████| 100/100 [00:25<00:00,  3.90it/s]\n"
     ]
    },
    {
     "name": "stdout",
     "output_type": "stream",
     "text": [
      "\n",
      "--- Epoch 7 / 20 ---\n"
     ]
    },
    {
     "name": "stderr",
     "output_type": "stream",
     "text": [
      "Training: 100%|██████████| 100/100 [00:25<00:00,  3.89it/s]\n"
     ]
    },
    {
     "name": "stdout",
     "output_type": "stream",
     "text": [
      "\n",
      "--- Epoch 8 / 20 ---\n"
     ]
    },
    {
     "name": "stderr",
     "output_type": "stream",
     "text": [
      "Training: 100%|██████████| 100/100 [00:26<00:00,  3.84it/s]\n"
     ]
    },
    {
     "name": "stdout",
     "output_type": "stream",
     "text": [
      "\n",
      "--- Epoch 9 / 20 ---\n"
     ]
    },
    {
     "name": "stderr",
     "output_type": "stream",
     "text": [
      "Training: 100%|██████████| 100/100 [00:25<00:00,  3.87it/s]\n"
     ]
    },
    {
     "name": "stdout",
     "output_type": "stream",
     "text": [
      "\n",
      "--- Epoch 10 / 20 ---\n"
     ]
    },
    {
     "name": "stderr",
     "output_type": "stream",
     "text": [
      "Training: 100%|██████████| 100/100 [00:27<00:00,  3.67it/s]\n"
     ]
    },
    {
     "name": "stdout",
     "output_type": "stream",
     "text": [
      "\n",
      "--- Epoch 11 / 20 ---\n"
     ]
    },
    {
     "name": "stderr",
     "output_type": "stream",
     "text": [
      "Training: 100%|██████████| 100/100 [00:26<00:00,  3.83it/s]\n"
     ]
    },
    {
     "name": "stdout",
     "output_type": "stream",
     "text": [
      "\n",
      "--- Epoch 12 / 20 ---\n"
     ]
    },
    {
     "name": "stderr",
     "output_type": "stream",
     "text": [
      "Training: 100%|██████████| 100/100 [00:25<00:00,  3.86it/s]\n"
     ]
    },
    {
     "name": "stdout",
     "output_type": "stream",
     "text": [
      "\n",
      "--- Epoch 13 / 20 ---\n"
     ]
    },
    {
     "name": "stderr",
     "output_type": "stream",
     "text": [
      "Training: 100%|██████████| 100/100 [00:25<00:00,  3.86it/s]\n"
     ]
    },
    {
     "name": "stdout",
     "output_type": "stream",
     "text": [
      "\n",
      "--- Epoch 14 / 20 ---\n"
     ]
    },
    {
     "name": "stderr",
     "output_type": "stream",
     "text": [
      "Training: 100%|██████████| 100/100 [00:26<00:00,  3.85it/s]\n"
     ]
    },
    {
     "name": "stdout",
     "output_type": "stream",
     "text": [
      "\n",
      "--- Epoch 15 / 20 ---\n"
     ]
    },
    {
     "name": "stderr",
     "output_type": "stream",
     "text": [
      "Training: 100%|██████████| 100/100 [00:26<00:00,  3.80it/s]\n"
     ]
    },
    {
     "name": "stdout",
     "output_type": "stream",
     "text": [
      "\n",
      "--- Epoch 16 / 20 ---\n"
     ]
    },
    {
     "name": "stderr",
     "output_type": "stream",
     "text": [
      "Training: 100%|██████████| 100/100 [00:26<00:00,  3.80it/s]\n"
     ]
    },
    {
     "name": "stdout",
     "output_type": "stream",
     "text": [
      "\n",
      "--- Epoch 17 / 20 ---\n"
     ]
    },
    {
     "name": "stderr",
     "output_type": "stream",
     "text": [
      "Training: 100%|██████████| 100/100 [00:27<00:00,  3.65it/s]\n"
     ]
    },
    {
     "name": "stdout",
     "output_type": "stream",
     "text": [
      "\n",
      "--- Epoch 18 / 20 ---\n"
     ]
    },
    {
     "name": "stderr",
     "output_type": "stream",
     "text": [
      "Training: 100%|██████████| 100/100 [00:26<00:00,  3.81it/s]\n"
     ]
    },
    {
     "name": "stdout",
     "output_type": "stream",
     "text": [
      "\n",
      "--- Epoch 19 / 20 ---\n"
     ]
    },
    {
     "name": "stderr",
     "output_type": "stream",
     "text": [
      "Training: 100%|██████████| 100/100 [00:26<00:00,  3.78it/s]\n"
     ]
    },
    {
     "name": "stdout",
     "output_type": "stream",
     "text": [
      "\n",
      "--- Epoch 20 / 20 ---\n"
     ]
    },
    {
     "name": "stderr",
     "output_type": "stream",
     "text": [
      "Training: 100%|██████████| 100/100 [00:26<00:00,  3.83it/s]\n"
     ]
    }
   ],
   "source": [
    "# Model Initialization\n",
    "model = WeightedDistilBert(NUM_LABELS, class_weights_tensor).to(DEVICE)\n",
    "optimizer = optim.AdamW(model.parameters(), lr=2e-5) # Typical learning rate for fine-tuning\n",
    "\n",
    "# Training Loop\n",
    "def train_bert(model, dataloader, optimizer, epochs=3):\n",
    "    model.train()\n",
    "    for epoch in range(epochs):\n",
    "        print(f\"\\n--- Epoch {epoch + 1} / {epochs} ---\")\n",
    "        for batch in tqdm(dataloader, desc=\"Training\"):\n",
    "            optimizer.zero_grad()\n",
    "\n",
    "            input_ids = batch['input_ids'].to(DEVICE)\n",
    "            attention_mask = batch['attention_mask'].to(DEVICE)\n",
    "            labels = batch['labels'].to(DEVICE)\n",
    "\n",
    "            loss, _ = model(input_ids, attention_mask, labels)\n",
    "\n",
    "            loss.backward()\n",
    "            optimizer.step()\n",
    "\n",
    "train_bert(model, train_dataoader, optimizer, epochs=20)\n"
   ]
  },
  {
   "cell_type": "code",
   "execution_count": 20,
   "id": "5ed59ef9",
   "metadata": {},
   "outputs": [
    {
     "name": "stderr",
     "output_type": "stream",
     "text": [
      "Evaluation: 100%|██████████| 25/25 [00:02<00:00, 12.12it/s]"
     ]
    },
    {
     "name": "stdout",
     "output_type": "stream",
     "text": [
      "\n",
      "🚀 Accuracy for model BERT : 200 datas : 0.7700\n",
      "\n",
      "Classification report (BERT) :\n",
      "                                     precision    recall  f1-score   support\n",
      "\n",
      "        BIODIVERSITY AND ECOSYSTEMS       0.81      0.87      0.84        54\n",
      "              CLIMATE AND EMISSIONS       0.83      0.76      0.79        45\n",
      "              ENERGY AND TRANSITION       0.74      0.77      0.76        22\n",
      "                  NATURAL RESOURCES       0.62      0.80      0.70        10\n",
      "            POLICIES AND REGULATION       0.59      0.62      0.60        21\n",
      "POLLUTION AND ENVIRONMENTAL QUALITY       0.81      0.74      0.77        23\n",
      "                RISKS AND DISASTERS       0.76      0.93      0.84        14\n",
      "              SOCIO-ECONOMIC IMPACT       1.00      0.45      0.62        11\n",
      "\n",
      "                           accuracy                           0.77       200\n",
      "                          macro avg       0.77      0.74      0.74       200\n",
      "                       weighted avg       0.78      0.77      0.77       200\n",
      "\n"
     ]
    },
    {
     "name": "stderr",
     "output_type": "stream",
     "text": [
      "\n"
     ]
    }
   ],
   "source": [
    "# Evaluation\n",
    "def evaluate_bert(model, dataloader, encoder):\n",
    "    model.eval()\n",
    "    all_preds = []\n",
    "    all_labels = []\n",
    "\n",
    "    with torch.no_grad():\n",
    "        for batch in tqdm(dataloader, desc=\"Evaluation\"):\n",
    "            input_ids = batch['input_ids'].to(DEVICE)\n",
    "            attention_mask = batch['attention_mask'].to(DEVICE)\n",
    "            labels = batch['labels'].to(DEVICE)\n",
    "            \n",
    "            _, logits = model(input_ids, attention_mask)\n",
    "            \n",
    "            predictions = torch.argmax(logits, dim=-1).cpu().numpy()\n",
    "            all_preds.extend(predictions)\n",
    "            all_labels.extend(labels.cpu().numpy())\n",
    "\n",
    "    target_names = encoder.classes_\n",
    "\n",
    "    accuracy = accuracy_score(all_labels, all_preds)\n",
    "    print(f\"\\n🚀 Accuracy for model BERT : {len(all_labels)} datas : {accuracy:.4f}\")\n",
    "    \n",
    "    report = classification_report(all_labels, all_preds, target_names=target_names)\n",
    "    print(\"\\nClassification report (BERT) :\")\n",
    "    print(report)\n",
    "    \n",
    "    return all_labels, all_preds\n",
    "\n",
    "# Lancement de l'évaluation\n",
    "all_labels, all_preds = evaluate_bert(model, test_dataloader, label_encoder)\n"
   ]
  },
  {
   "cell_type": "code",
   "execution_count": 21,
   "id": "e9f21512",
   "metadata": {},
   "outputs": [
    {
     "name": "stdout",
     "output_type": "stream",
     "text": [
      "✅ DistilBERT model and Tokenizer registered in : classification_report/distilbert_classification_model\n",
      "✅ Label Encoder registered in : classification_report/bert_label_encoder.pkl\n"
     ]
    }
   ],
   "source": [
    "# Save the trained model and tokenizer\n",
    "os.makedirs(BERT_OUTPUT_DIR, exist_ok=True)\n",
    "\n",
    "model.distilbert.save_pretrained(BERT_OUTPUT_DIR)\n",
    "tokenizer.save_pretrained(BERT_OUTPUT_DIR)\n",
    "\n",
    "with open(encoder_filename_pkl, 'wb') as encoder_file:\n",
    "    pickle.dump(label_encoder, encoder_file)\n",
    "\n",
    "print(f\"✅ DistilBERT model and Tokenizer registered in : {BERT_OUTPUT_DIR}\")\n",
    "print(f\"✅ Label Encoder registered in : {encoder_filename_pkl}\")"
   ]
  },
  {
   "cell_type": "code",
   "execution_count": 24,
   "id": "5eb71350",
   "metadata": {},
   "outputs": [
    {
     "data": {
      "image/png": "[encoded data removed]",
      "text/plain": [
       "<Figure size 1000x800 with 2 Axes>"
      ]
     },
     "metadata": {},
     "output_type": "display_data"
    }
   ],
   "source": [
    "# Confusion Matrix and Analysis\n",
    "cm = confusion_matrix(all_labels, all_preds)\n",
    "\n",
    "# Visualization\n",
    "plt.figure(figsize=(10, 8))\n",
    "sns.heatmap(\n",
    "    cm, \n",
    "    annot=True, \n",
    "    fmt='d', \n",
    "    cmap='Blues',\n",
    "    xticklabels=label_encoder.classes_,\n",
    "    yticklabels=label_encoder.classes_\n",
    ")\n",
    "plt.xlabel('Predited Category')\n",
    "plt.ylabel('True Category')\n",
    "plt.title('Confusion Matrix BERT (999 datas)')\n",
    "plt.show() # "
   ]
  },
  {
   "cell_type": "code",
   "execution_count": 25,
   "id": "f2500692",
   "metadata": {},
   "outputs": [
    {
     "name": "stdout",
     "output_type": "stream",
     "text": [
      "\n",
      "Document distribution 'SOCIO-ECONOMIC IMPACT' (True) :\n",
      "  - 1 classified in : BIODIVERSITY AND ECOSYSTEMS\n",
      "  - 1 classified in : NATURAL RESOURCES\n",
      "  - 1 classified in : POLICIES AND REGULATION\n",
      "  - 3 classified in : POLLUTION AND ENVIRONMENTAL QUALITY\n",
      "  - 5 classified in : SOCIO-ECONOMIC IMPACT\n"
     ]
    }
   ],
   "source": [
    "# Analysis for the row \"SOCIO-ECONOMIC IMPACT\"\n",
    "socio_economic_index = label_encoder.transform(['SOCIO-ECONOMIC IMPACT'])[0]\n",
    "misclassified_counts = cm[socio_economic_index, :]\n",
    "\n",
    "print(\"\\nDocument distribution 'SOCIO-ECONOMIC IMPACT' (True) :\")\n",
    "for i, count in enumerate(misclassified_counts):\n",
    "    if count > 0:\n",
    "        print(f\"  - {count} classified in : {label_encoder.inverse_transform([i])[0]}\")"
   ]
  },
  {
   "cell_type": "code",
   "execution_count": null,
   "id": "86f564e0",
   "metadata": {},
   "outputs": [],
   "source": []
  }
 ],
 "metadata": {
  "kernelspec": {
   "display_name": "venv",
   "language": "python",
   "name": "python3"
  },
  "language_info": {
   "codemirror_mode": {
    "name": "ipython",
    "version": 3
   },
   "file_extension": ".py",
   "mimetype": "text/x-python",
   "name": "python",
   "nbconvert_exporter": "python",
   "pygments_lexer": "ipython3",
   "version": "3.12.3"
  }
 },
 "nbformat": 4,
 "nbformat_minor": 5
}
