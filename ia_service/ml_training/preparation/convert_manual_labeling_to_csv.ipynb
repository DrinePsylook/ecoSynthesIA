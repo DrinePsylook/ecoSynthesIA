{
 "cells": [
  {
   "cell_type": "code",
   "execution_count": 1,
   "id": "b6866310",
   "metadata": {},
   "outputs": [],
   "source": [
    "import json \n",
    "import pandas as pd"
   ]
  },
  {
   "cell_type": "code",
   "execution_count": 2,
   "id": "0189ad61",
   "metadata": {},
   "outputs": [],
   "source": [
    "TARGET_JSON_FILE = \"../news_datasets/manual_labeling_20.json\"\n",
    "FINAL_CSV_FILE = \"../news_datasets/test_20_labeled.csv\""
   ]
  },
  {
   "cell_type": "code",
   "execution_count": 3,
   "id": "3b214d62",
   "metadata": {},
   "outputs": [],
   "source": [
    "with open(TARGET_JSON_FILE, 'r', encoding='utf-8') as f:\n",
    "            manual_data = json.load(f)"
   ]
  },
  {
   "cell_type": "code",
   "execution_count": 4,
   "id": "4e2d20fb",
   "metadata": {},
   "outputs": [],
   "source": [
    "df = pd.DataFrame(manual_data)"
   ]
  },
  {
   "cell_type": "code",
   "execution_count": 5,
   "id": "b7fea725",
   "metadata": {},
   "outputs": [
    {
     "data": {
      "text/html": [
       "<div>\n",
       "<style scoped>\n",
       "    .dataframe tbody tr th:only-of-type {\n",
       "        vertical-align: middle;\n",
       "    }\n",
       "\n",
       "    .dataframe tbody tr th {\n",
       "        vertical-align: top;\n",
       "    }\n",
       "\n",
       "    .dataframe thead th {\n",
       "        text-align: right;\n",
       "    }\n",
       "</style>\n",
       "<table border=\"1\" class=\"dataframe\">\n",
       "  <thead>\n",
       "    <tr style=\"text-align: right;\">\n",
       "      <th></th>\n",
       "      <th>Title</th>\n",
       "      <th>Authors</th>\n",
       "      <th>Date Published</th>\n",
       "      <th>Full Text</th>\n",
       "      <th>category</th>\n",
       "    </tr>\n",
       "  </thead>\n",
       "  <tbody>\n",
       "    <tr>\n",
       "      <th>0</th>\n",
       "      <td>This article is more than 7 months oldYoung h...</td>\n",
       "      <td>['Jordyn Beazley']</td>\n",
       "      <td>2023-05-22</td>\n",
       "      <td>Up to 50,000 whales expected to pass Australia...</td>\n",
       "      <td>BIODIVERSITY AND ECOSYSTEMS</td>\n",
       "    </tr>\n",
       "    <tr>\n",
       "      <th>1</th>\n",
       "      <td>Vanuatu, one of the most climate-vulnerable c...</td>\n",
       "      <td>['Supported by', 'About this content', 'Lagipo...</td>\n",
       "      <td>2022-08-14</td>\n",
       "      <td>The Pacific country has committed to 100% rene...</td>\n",
       "      <td>ENERGY AND TRANSITION</td>\n",
       "    </tr>\n",
       "    <tr>\n",
       "      <th>2</th>\n",
       "      <td>‘Apocalyptic skies’: the dust storms devastati...</td>\n",
       "      <td>['Richa Syal']</td>\n",
       "      <td>2022-06-05</td>\n",
       "      <td>Rising frequency of storms due to climate cris...</td>\n",
       "      <td>CLIMATE AND EMISSIONS</td>\n",
       "    </tr>\n",
       "    <tr>\n",
       "      <th>3</th>\n",
       "      <td>Why rising seas will force coastal residents ...</td>\n",
       "      <td>['Emily Holden', ' in Washington']</td>\n",
       "      <td>2019-10-02</td>\n",
       "      <td>In the fourth part of our series looking at th...</td>\n",
       "      <td>SOCIO-ECONOMIC IMPACT</td>\n",
       "    </tr>\n",
       "    <tr>\n",
       "      <th>4</th>\n",
       "      <td>‘Show us the money,’ environment groups say a...</td>\n",
       "      <td>['Lisa Cox']</td>\n",
       "      <td>2022-10-04</td>\n",
       "      <td>Advocates deride $224.5m funding pledge given ...</td>\n",
       "      <td>POLICIES AND REGULATION</td>\n",
       "    </tr>\n",
       "  </tbody>\n",
       "</table>\n",
       "</div>"
      ],
      "text/plain": [
       "                                               Title  \\\n",
       "0   This article is more than 7 months oldYoung h...   \n",
       "1   Vanuatu, one of the most climate-vulnerable c...   \n",
       "2  ‘Apocalyptic skies’: the dust storms devastati...   \n",
       "3   Why rising seas will force coastal residents ...   \n",
       "4   ‘Show us the money,’ environment groups say a...   \n",
       "\n",
       "                                             Authors Date Published  \\\n",
       "0                                 ['Jordyn Beazley']     2023-05-22   \n",
       "1  ['Supported by', 'About this content', 'Lagipo...     2022-08-14   \n",
       "2                                     ['Richa Syal']     2022-06-05   \n",
       "3                 ['Emily Holden', ' in Washington']     2019-10-02   \n",
       "4                                       ['Lisa Cox']     2022-10-04   \n",
       "\n",
       "                                           Full Text  \\\n",
       "0  Up to 50,000 whales expected to pass Australia...   \n",
       "1  The Pacific country has committed to 100% rene...   \n",
       "2  Rising frequency of storms due to climate cris...   \n",
       "3  In the fourth part of our series looking at th...   \n",
       "4  Advocates deride $224.5m funding pledge given ...   \n",
       "\n",
       "                      category  \n",
       "0  BIODIVERSITY AND ECOSYSTEMS  \n",
       "1        ENERGY AND TRANSITION  \n",
       "2        CLIMATE AND EMISSIONS  \n",
       "3        SOCIO-ECONOMIC IMPACT  \n",
       "4      POLICIES AND REGULATION  "
      ]
     },
     "execution_count": 5,
     "metadata": {},
     "output_type": "execute_result"
    }
   ],
   "source": [
    "df.head()"
   ]
  },
  {
   "cell_type": "code",
   "execution_count": 6,
   "id": "d9b566ce",
   "metadata": {},
   "outputs": [],
   "source": [
    "df = df.rename(columns={'category': 'llm_category'})"
   ]
  },
  {
   "cell_type": "code",
   "execution_count": 7,
   "id": "d183fcc7",
   "metadata": {},
   "outputs": [
    {
     "data": {
      "text/html": [
       "<div>\n",
       "<style scoped>\n",
       "    .dataframe tbody tr th:only-of-type {\n",
       "        vertical-align: middle;\n",
       "    }\n",
       "\n",
       "    .dataframe tbody tr th {\n",
       "        vertical-align: top;\n",
       "    }\n",
       "\n",
       "    .dataframe thead th {\n",
       "        text-align: right;\n",
       "    }\n",
       "</style>\n",
       "<table border=\"1\" class=\"dataframe\">\n",
       "  <thead>\n",
       "    <tr style=\"text-align: right;\">\n",
       "      <th></th>\n",
       "      <th>Title</th>\n",
       "      <th>Authors</th>\n",
       "      <th>Date Published</th>\n",
       "      <th>Full Text</th>\n",
       "      <th>llm_category</th>\n",
       "    </tr>\n",
       "  </thead>\n",
       "  <tbody>\n",
       "    <tr>\n",
       "      <th>0</th>\n",
       "      <td>This article is more than 7 months oldYoung h...</td>\n",
       "      <td>['Jordyn Beazley']</td>\n",
       "      <td>2023-05-22</td>\n",
       "      <td>Up to 50,000 whales expected to pass Australia...</td>\n",
       "      <td>BIODIVERSITY AND ECOSYSTEMS</td>\n",
       "    </tr>\n",
       "    <tr>\n",
       "      <th>1</th>\n",
       "      <td>Vanuatu, one of the most climate-vulnerable c...</td>\n",
       "      <td>['Supported by', 'About this content', 'Lagipo...</td>\n",
       "      <td>2022-08-14</td>\n",
       "      <td>The Pacific country has committed to 100% rene...</td>\n",
       "      <td>ENERGY AND TRANSITION</td>\n",
       "    </tr>\n",
       "    <tr>\n",
       "      <th>2</th>\n",
       "      <td>‘Apocalyptic skies’: the dust storms devastati...</td>\n",
       "      <td>['Richa Syal']</td>\n",
       "      <td>2022-06-05</td>\n",
       "      <td>Rising frequency of storms due to climate cris...</td>\n",
       "      <td>CLIMATE AND EMISSIONS</td>\n",
       "    </tr>\n",
       "    <tr>\n",
       "      <th>3</th>\n",
       "      <td>Why rising seas will force coastal residents ...</td>\n",
       "      <td>['Emily Holden', ' in Washington']</td>\n",
       "      <td>2019-10-02</td>\n",
       "      <td>In the fourth part of our series looking at th...</td>\n",
       "      <td>SOCIO-ECONOMIC IMPACT</td>\n",
       "    </tr>\n",
       "    <tr>\n",
       "      <th>4</th>\n",
       "      <td>‘Show us the money,’ environment groups say a...</td>\n",
       "      <td>['Lisa Cox']</td>\n",
       "      <td>2022-10-04</td>\n",
       "      <td>Advocates deride $224.5m funding pledge given ...</td>\n",
       "      <td>POLICIES AND REGULATION</td>\n",
       "    </tr>\n",
       "  </tbody>\n",
       "</table>\n",
       "</div>"
      ],
      "text/plain": [
       "                                               Title  \\\n",
       "0   This article is more than 7 months oldYoung h...   \n",
       "1   Vanuatu, one of the most climate-vulnerable c...   \n",
       "2  ‘Apocalyptic skies’: the dust storms devastati...   \n",
       "3   Why rising seas will force coastal residents ...   \n",
       "4   ‘Show us the money,’ environment groups say a...   \n",
       "\n",
       "                                             Authors Date Published  \\\n",
       "0                                 ['Jordyn Beazley']     2023-05-22   \n",
       "1  ['Supported by', 'About this content', 'Lagipo...     2022-08-14   \n",
       "2                                     ['Richa Syal']     2022-06-05   \n",
       "3                 ['Emily Holden', ' in Washington']     2019-10-02   \n",
       "4                                       ['Lisa Cox']     2022-10-04   \n",
       "\n",
       "                                           Full Text  \\\n",
       "0  Up to 50,000 whales expected to pass Australia...   \n",
       "1  The Pacific country has committed to 100% rene...   \n",
       "2  Rising frequency of storms due to climate cris...   \n",
       "3  In the fourth part of our series looking at th...   \n",
       "4  Advocates deride $224.5m funding pledge given ...   \n",
       "\n",
       "                  llm_category  \n",
       "0  BIODIVERSITY AND ECOSYSTEMS  \n",
       "1        ENERGY AND TRANSITION  \n",
       "2        CLIMATE AND EMISSIONS  \n",
       "3        SOCIO-ECONOMIC IMPACT  \n",
       "4      POLICIES AND REGULATION  "
      ]
     },
     "execution_count": 7,
     "metadata": {},
     "output_type": "execute_result"
    }
   ],
   "source": [
    "df.head()"
   ]
  },
  {
   "cell_type": "code",
   "execution_count": 8,
   "id": "ed5465f7",
   "metadata": {},
   "outputs": [],
   "source": [
    "df.to_csv(FINAL_CSV_FILE, index=False)"
   ]
  },
  {
   "cell_type": "code",
   "execution_count": null,
   "id": "e5de358c",
   "metadata": {},
   "outputs": [],
   "source": []
  }
 ],
 "metadata": {
  "kernelspec": {
   "display_name": "venv",
   "language": "python",
   "name": "python3"
  },
  "language_info": {
   "codemirror_mode": {
    "name": "ipython",
    "version": 3
   },
   "file_extension": ".py",
   "mimetype": "text/x-python",
   "name": "python",
   "nbconvert_exporter": "python",
   "pygments_lexer": "ipython3",
   "version": "3.12.3"
  }
 },
 "nbformat": 4,
 "nbformat_minor": 5
}
